{
 "cells": [
  {
   "cell_type": "markdown",
   "metadata": {},
   "source": [
    "0. Create a local workspace\n",
    "1. USE gpt-4.0 as the model.\n",
    "2. Find a good dataset to work on.\n",
    "3. Try various PEFT techniques:\n",
    "    - LORA\n",
    "    - QLORA (bitsandbytes)\n",
    "    - etc. (https://pypi.org/project/peft/0.7.0/)\n",
    "\n",
    "4. Create a GitHub WebPage"
   ]
  }
 ],
 "metadata": {
  "language_info": {
   "name": "python"
  }
 },
 "nbformat": 4,
 "nbformat_minor": 2
}
